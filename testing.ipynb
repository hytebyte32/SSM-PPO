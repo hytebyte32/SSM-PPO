{
 "cells": [
  {
   "cell_type": "code",
   "execution_count": 15,
   "id": "292d51d0",
   "metadata": {},
   "outputs": [],
   "source": [
    "import os\n",
    "import numpy as np\n",
    "import torch as T\n",
    "import torch.nn as nn\n",
    "import torch.optim as optim\n",
    "\n",
    "from recurrent_network import RecurrentNetwork"
   ]
  },
  {
   "cell_type": "code",
   "execution_count": 16,
   "id": "fc0191ce",
   "metadata": {},
   "outputs": [
    {
     "name": "stdout",
     "output_type": "stream",
     "text": [
      "cuda\n"
     ]
    }
   ],
   "source": [
    "'''\n",
    "Testing for any forward pass / backpropagation errors\n",
    "'''\n",
    "\n",
    "# ssm config\n",
    "embedding_size = 64\n",
    "state_space_size = 256\n",
    "input_size = 4\n",
    "output_size = input_size\n",
    "batch_size = 1\n",
    "seq_len = 10000\n",
    "\n",
    "#device = T.device(\"cuda\" if T.cuda.is_available() else \"cpu\")\n",
    "device = \"cuda\"\n",
    "print(device)\n",
    "\n",
    "# instantiate modepl\n",
    "model = RecurrentNetwork(\n",
    "    embedding_size=embedding_size,\n",
    "    state_space_size=state_space_size,\n",
    "    input_size=input_size,\n",
    "    output_size=output_size,\n",
    "    batch_size=batch_size,\n",
    "    chkpt_dir='temp/',\n",
    "    device=device\n",
    ")\n",
    "# backprop setup\n",
    "optimizer = optim.Adam(model.parameters(), lr=1e-3)\n",
    "criterion = nn.MSELoss()\n",
    "\n",
    "# generate input and target data\n",
    "inputs = T.randn(batch_size, seq_len, input_size, dtype=T.float32, device=device)\n",
    "targets = T.randn(batch_size, seq_len, input_size, dtype=T.float32, device=device)\n",
    "\n",
    "# training loop for 1 step to test backprop\n",
    "#model.train()"
   ]
  },
  {
   "cell_type": "code",
   "execution_count": 17,
   "id": "08ec4f61",
   "metadata": {},
   "outputs": [],
   "source": [
    "# forward pass\n",
    "h_t = model.get_inital_hidden_state()\n",
    "y_t, h_t = model(inputs, h_t)\n",
    "preds = model.pred(y_t)\n",
    "loss = criterion(preds, targets)"
   ]
  },
  {
   "cell_type": "code",
   "execution_count": 18,
   "id": "54f4ef8f",
   "metadata": {},
   "outputs": [
    {
     "name": "stdout",
     "output_type": "stream",
     "text": [
      "Loss: 1.2844908237457275\n",
      "Backpropagation and optimizer step completed successfully.\n"
     ]
    }
   ],
   "source": [
    "optimizer.zero_grad()\n",
    "loss.backward()\n",
    "optimizer.step()\n",
    "\n",
    "print(\"Loss:\", loss.item())\n",
    "print(\"Backpropagation and optimizer step completed successfully.\")"
   ]
  },
  {
   "cell_type": "code",
   "execution_count": 19,
   "id": "fd1e9d16",
   "metadata": {},
   "outputs": [
    {
     "data": {
      "text/plain": [
       "'print(device)'"
      ]
     },
     "execution_count": 19,
     "metadata": {},
     "output_type": "execute_result"
    }
   ],
   "source": [
    "'''print(device)'''"
   ]
  },
  {
   "cell_type": "code",
   "execution_count": 20,
   "id": "5ab4445e",
   "metadata": {},
   "outputs": [
    {
     "name": "stdout",
     "output_type": "stream",
     "text": [
      "tensor([[ 0.1774,  0.3512,  0.2284, -0.9344],\n",
      "        [ 0.1359,  0.3805,  0.2504, -0.9420],\n",
      "        [ 0.1771,  0.3693,  0.2579, -0.9532],\n",
      "        ...,\n",
      "        [ 0.2815,  0.2287,  0.3277, -0.9483],\n",
      "        [ 0.2186,  0.3457,  0.2527, -0.9306],\n",
      "        [ 0.1763,  0.3587,  0.2286, -0.9314]], device='cuda:0',\n",
      "       grad_fn=<SelectBackward0>) tensor([[ 1.5187e-04-8.7457e-05j, -2.7382e-04-5.3371e-05j,\n",
      "          3.6742e-04-4.5564e-04j,  ...,\n",
      "          2.1592e-04-1.3731e-04j, -2.9898e-04-4.4613e-06j,\n",
      "          2.6302e-04+1.3385e-04j],\n",
      "        [ 7.4134e-05+4.7742e-04j,  2.2923e-04+7.6702e-05j,\n",
      "          9.0115e-05+7.5115e-04j,  ...,\n",
      "         -3.6614e-04+2.9367e-04j,  1.9932e-04-8.1488e-04j,\n",
      "         -5.9819e-04+3.2334e-04j],\n",
      "        [-2.5943e-04+1.3169e-04j, -2.2749e-04+1.3137e-04j,\n",
      "         -3.7131e-04+1.5108e-04j,  ...,\n",
      "         -1.3661e-04-3.8630e-04j,  4.9617e-04+7.4156e-05j,\n",
      "         -2.6413e-04-4.5138e-04j],\n",
      "        ...,\n",
      "        [-8.9820e-05+1.6072e-04j, -6.4200e-05+4.0081e-06j,\n",
      "          3.4010e-04+2.0480e-04j,  ...,\n",
      "          6.3505e-05-1.8465e-04j,  2.6496e-04-2.0605e-04j,\n",
      "         -3.0120e-04+1.4593e-04j],\n",
      "        [-2.7561e-04-2.3933e-05j, -2.3753e-04+1.4755e-04j,\n",
      "         -7.7508e-05-3.2963e-04j,  ...,\n",
      "          1.7436e-04-5.3222e-04j,  2.4122e-04+3.0784e-04j,\n",
      "         -7.3083e-05-3.5320e-04j],\n",
      "        [ 3.3662e-04+2.5390e-05j, -1.1369e-04-1.3747e-04j,\n",
      "          5.0643e-04+1.0094e-04j,  ...,\n",
      "          3.3002e-04+2.5947e-04j, -6.5795e-04-1.2181e-04j,\n",
      "          5.4191e-05+3.5177e-04j]], device='cuda:0', grad_fn=<SelectBackward0>)\n"
     ]
    }
   ],
   "source": [
    "# checking for numerical stability\n",
    "print(preds[-1], h_t[-1])"
   ]
  },
  {
   "cell_type": "code",
   "execution_count": 21,
   "id": "a18e57e8",
   "metadata": {},
   "outputs": [
    {
     "data": {
      "text/plain": [
       "0"
      ]
     },
     "execution_count": 21,
     "metadata": {},
     "output_type": "execute_result"
    }
   ],
   "source": [
    "import torch as T\n",
    "\n",
    "def count_nans(y_t):\n",
    "    \"\"\"\n",
    "    Counts the number of NaN values in a tensor.\n",
    "    \n",
    "    Args:\n",
    "        y_t (torch.Tensor): Input tensor of any shape.\n",
    "        \n",
    "    Returns:\n",
    "        int: Number of NaN values in the tensor.\n",
    "    \"\"\"\n",
    "    return T.isnan(y_t).sum().item()\n",
    "\n",
    "\n",
    "count_nans(preds)"
   ]
  }
 ],
 "metadata": {
  "kernelspec": {
   "display_name": "py311",
   "language": "python",
   "name": "python3"
  },
  "language_info": {
   "codemirror_mode": {
    "name": "ipython",
    "version": 3
   },
   "file_extension": ".py",
   "mimetype": "text/x-python",
   "name": "python",
   "nbconvert_exporter": "python",
   "pygments_lexer": "ipython3",
   "version": "3.11.13"
  }
 },
 "nbformat": 4,
 "nbformat_minor": 5
}
