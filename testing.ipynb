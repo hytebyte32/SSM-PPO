{
 "cells": [
  {
   "cell_type": "code",
   "execution_count": 1,
   "id": "292d51d0",
   "metadata": {},
   "outputs": [],
   "source": [
    "import os\n",
    "import numpy as np\n",
    "import torch as T\n",
    "import torch.nn as nn\n",
    "import torch.optim as optim\n",
    "\n",
    "from recurrent_network import RecurrentNetwork"
   ]
  },
  {
   "cell_type": "code",
   "execution_count": 2,
   "id": "fc0191ce",
   "metadata": {},
   "outputs": [
    {
     "name": "stdout",
     "output_type": "stream",
     "text": [
      "cuda\n"
     ]
    }
   ],
   "source": [
    "'''\n",
    "Testing for any forward pass / backpropagation errors\n",
    "'''\n",
    "\n",
    "# ssm config\n",
    "embedding_size = 64\n",
    "state_space_size = 256\n",
    "input_size = 4\n",
    "output_size = input_size\n",
    "batch_size = 1\n",
    "seq_len = 10000\n",
    "\n",
    "device = T.device(\"cuda\" if T.cuda.is_available() else \"cpu\")\n",
    "\n",
    "print(device)\n",
    "# instantiate modepl\n",
    "model = RecurrentNetwork(\n",
    "    embedding_size=embedding_size,\n",
    "    state_space_size=state_space_size,\n",
    "    input_size=input_size,\n",
    "    output_size=output_size,\n",
    "    batch_size=batch_size,\n",
    "    chkpt_dir='temp/',\n",
    "    device=device\n",
    ")\n",
    "# backprop setup\n",
    "optimizer = optim.Adam(model.parameters(), lr=1e-3)\n",
    "criterion = nn.MSELoss()\n",
    "\n",
    "# generate input and target data\n",
    "inputs = T.randn(batch_size, seq_len, input_size, dtype=T.float32, device=device)\n",
    "targets = T.randn(batch_size, seq_len, input_size, dtype=T.float32, device=device)\n",
    "\n",
    "# training loop for 1 step to test backprop\n",
    "#model.train()"
   ]
  },
  {
   "cell_type": "code",
   "execution_count": 3,
   "id": "08ec4f61",
   "metadata": {},
   "outputs": [],
   "source": [
    "# forward pass\n",
    "h_t, preds = model(inputs, None, embeddings_only=False)\n",
    "loss = criterion(preds, targets)"
   ]
  },
  {
   "cell_type": "code",
   "execution_count": 4,
   "id": "54f4ef8f",
   "metadata": {},
   "outputs": [
    {
     "name": "stdout",
     "output_type": "stream",
     "text": [
      "Loss: 1.2436450719833374\n",
      "Backpropagation and optimizer step completed successfully.\n"
     ]
    }
   ],
   "source": [
    "optimizer.zero_grad()\n",
    "loss.backward()\n",
    "optimizer.step()\n",
    "\n",
    "print(\"Loss:\", loss.item())\n",
    "print(\"Backpropagation and optimizer step completed successfully.\")"
   ]
  },
  {
   "cell_type": "code",
   "execution_count": 5,
   "id": "fd1e9d16",
   "metadata": {},
   "outputs": [
    {
     "data": {
      "text/plain": [
       "'print(device)'"
      ]
     },
     "execution_count": 5,
     "metadata": {},
     "output_type": "execute_result"
    }
   ],
   "source": [
    "'''print(device)'''"
   ]
  },
  {
   "cell_type": "code",
   "execution_count": 6,
   "id": "5ab4445e",
   "metadata": {},
   "outputs": [
    {
     "name": "stdout",
     "output_type": "stream",
     "text": [
      "tensor([[ 0.1134, -0.8336,  0.1211,  0.4872],\n",
      "        [ 0.1525, -0.8503,  0.0510,  0.5015],\n",
      "        [ 0.2092, -0.8128,  0.1201,  0.4190],\n",
      "        ...,\n",
      "        [ 0.2919, -0.7277,  0.1199,  0.3441],\n",
      "        [ 0.2325, -0.7295,  0.0564,  0.3919],\n",
      "        [ 0.1567, -0.8118,  0.1266,  0.4798]], device='cuda:0',\n",
      "       grad_fn=<SelectBackward0>) tensor([[-1.8821e-05+6.3317e-04j,  5.1080e-04-2.3276e-04j,\n",
      "          1.5026e-04+2.5123e-04j,  ...,\n",
      "          2.0019e-04-2.4070e-04j,  2.4892e-04+1.0111e-04j,\n",
      "         -1.3251e-04-3.1056e-04j],\n",
      "        [-7.4189e-04-9.0321e-04j, -1.1752e-05+6.5879e-04j,\n",
      "         -1.6039e-04-7.8302e-05j,  ...,\n",
      "          2.0035e-04+6.4904e-04j,  7.2277e-04+8.6701e-04j,\n",
      "         -1.6593e-04+4.6774e-04j],\n",
      "        [-3.5632e-04+4.9018e-04j,  4.2460e-04+1.5385e-04j,\n",
      "         -1.5279e-04+4.0700e-04j,  ...,\n",
      "          2.9023e-04+2.3719e-04j,  1.7440e-04+5.4805e-04j,\n",
      "         -1.1715e-04-2.8196e-04j],\n",
      "        ...,\n",
      "        [ 3.6814e-04-2.7352e-05j, -5.2059e-05-6.0481e-05j,\n",
      "          1.2217e-04-1.1369e-04j,  ...,\n",
      "          3.2917e-05+1.0424e-04j,  1.6821e-04-2.2932e-04j,\n",
      "         -7.2837e-05-1.6580e-04j],\n",
      "        [ 2.9043e-04+2.0659e-05j, -2.2400e-04+2.5174e-05j,\n",
      "         -7.0680e-05-1.0850e-04j,  ...,\n",
      "          7.5711e-05+4.3446e-05j, -2.6019e-04-7.7762e-04j,\n",
      "          2.2313e-04-4.7511e-05j],\n",
      "        [-3.4423e-04+3.2532e-04j,  2.1255e-04+5.2607e-05j,\n",
      "         -1.1941e-04+1.7053e-04j,  ...,\n",
      "          2.1505e-04+1.2381e-04j,  3.1830e-04+2.6707e-05j,\n",
      "          9.2158e-05+1.0927e-06j]], device='cuda:0', grad_fn=<SelectBackward0>)\n"
     ]
    }
   ],
   "source": [
    "# checking for numerical stability\n",
    "print(preds[-1], h_t[-1])"
   ]
  },
  {
   "cell_type": "code",
   "execution_count": null,
   "id": "a18e57e8",
   "metadata": {},
   "outputs": [
    {
     "data": {
      "text/plain": [
       "tensor([[[False, False, False, False],\n",
       "         [False, False, False, False],\n",
       "         [False, False, False, False],\n",
       "         ...,\n",
       "         [False, False, False, False],\n",
       "         [False, False, False, False],\n",
       "         [False, False, False, False]]], device='cuda:0')"
      ]
     },
     "execution_count": 7,
     "metadata": {},
     "output_type": "execute_result"
    }
   ],
   "source": [
    "import torch as T\n",
    "\n",
    "def count_nans(y_t):\n",
    "    \"\"\"\n",
    "    Counts the number of NaN values in a tensor.\n",
    "    \n",
    "    Args:\n",
    "        y_t (torch.Tensor): Input tensor of any shape.\n",
    "        \n",
    "    Returns:\n",
    "        int: Number of NaN values in the tensor.\n",
    "    \"\"\"\n",
    "    return T.isnan(y_t).sum().item()\n",
    "\n",
    "\n",
    "count_nans(preds)"
   ]
  }
 ],
 "metadata": {
  "kernelspec": {
   "display_name": "py311",
   "language": "python",
   "name": "python3"
  },
  "language_info": {
   "codemirror_mode": {
    "name": "ipython",
    "version": 3
   },
   "file_extension": ".py",
   "mimetype": "text/x-python",
   "name": "python",
   "nbconvert_exporter": "python",
   "pygments_lexer": "ipython3",
   "version": "3.11.13"
  }
 },
 "nbformat": 4,
 "nbformat_minor": 5
}
