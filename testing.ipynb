{
 "cells": [
  {
   "cell_type": "code",
   "execution_count": 1,
   "id": "292d51d0",
   "metadata": {},
   "outputs": [],
   "source": [
    "import os\n",
    "import numpy as np\n",
    "import torch as T\n",
    "import torch.nn as nn\n",
    "import torch.optim as optim\n",
    "\n",
    "from recurrent_network import RecurrentNetwork"
   ]
  },
  {
   "cell_type": "code",
   "execution_count": 2,
   "id": "fc0191ce",
   "metadata": {},
   "outputs": [
    {
     "name": "stdout",
     "output_type": "stream",
     "text": [
      "cuda\n"
     ]
    }
   ],
   "source": [
    "'''\n",
    "Testing for any forward pass / backpropagation errors\n",
    "'''\n",
    "\n",
    "# ssm config\n",
    "embedding_size = 64\n",
    "state_space_size = 256\n",
    "input_size = 4\n",
    "output_size = input_size\n",
    "batch_size = 1\n",
    "seq_len = 15000\n",
    "\n",
    "#device = T.device(\"cuda\" if T.cuda.is_available() else \"cpu\")\n",
    "device = \"cuda\"\n",
    "print(device)\n",
    "\n",
    "# instantiate modepl\n",
    "model = RecurrentNetwork(\n",
    "    embedding_size=embedding_size,\n",
    "    state_space_size=state_space_size,\n",
    "    input_size=input_size,\n",
    "    output_size=output_size,\n",
    "    batch_size=batch_size,\n",
    "    chkpt_dir='temp/',\n",
    "    device=device\n",
    ")\n",
    "# backprop setup\n",
    "optimizer = optim.Adam(model.parameters(), lr=1e-3)\n",
    "criterion = nn.MSELoss()\n",
    "\n",
    "# generate input and target data\n",
    "inputs = T.randn(batch_size, seq_len, input_size, dtype=T.float32, device=device)\n",
    "targets = T.randn(batch_size, seq_len, input_size, dtype=T.float32, device=device)\n",
    "\n",
    "# training loop for 1 step to test backprop\n",
    "#model.train()"
   ]
  },
  {
   "cell_type": "code",
   "execution_count": 3,
   "id": "08ec4f61",
   "metadata": {},
   "outputs": [],
   "source": [
    "# forward pass\n",
    "h_t = model.get_inital_hidden_state()\n",
    "y_t, h_t = model(inputs, h_t)\n",
    "preds = model.pred(y_t)\n",
    "loss = criterion(preds, targets)"
   ]
  },
  {
   "cell_type": "code",
   "execution_count": 4,
   "id": "54f4ef8f",
   "metadata": {},
   "outputs": [
    {
     "name": "stdout",
     "output_type": "stream",
     "text": [
      "Loss: 1.1212122440338135\n",
      "Backpropagation and optimizer step completed successfully.\n"
     ]
    }
   ],
   "source": [
    "optimizer.zero_grad()\n",
    "loss.backward()\n",
    "optimizer.step()\n",
    "\n",
    "print(\"Loss:\", loss.item())\n",
    "print(\"Backpropagation and optimizer step completed successfully.\")"
   ]
  },
  {
   "cell_type": "code",
   "execution_count": 5,
   "id": "fd1e9d16",
   "metadata": {},
   "outputs": [
    {
     "data": {
      "text/plain": [
       "'print(device)'"
      ]
     },
     "execution_count": 5,
     "metadata": {},
     "output_type": "execute_result"
    }
   ],
   "source": [
    "'''print(device)'''"
   ]
  },
  {
   "cell_type": "code",
   "execution_count": 6,
   "id": "5ab4445e",
   "metadata": {},
   "outputs": [
    {
     "name": "stdout",
     "output_type": "stream",
     "text": [
      "tensor([[-0.2996, -0.2517, -0.5657,  0.0262],\n",
      "        [-0.3406, -0.2115, -0.5455,  0.1015],\n",
      "        [-0.3465, -0.1763, -0.5489,  0.0515],\n",
      "        ...,\n",
      "        [-0.3585, -0.1741, -0.5310,  0.0793],\n",
      "        [-0.3112, -0.2752, -0.6466,  0.0598],\n",
      "        [-0.3515, -0.2215, -0.5665,  0.0650]], device='cuda:0',\n",
      "       grad_fn=<SelectBackward0>) tensor([[ 2.0373e-04+4.4172e-04j, -4.6126e-04-4.5727e-04j,\n",
      "          1.1661e-04+1.0681e-04j,  ...,\n",
      "          2.0773e-04-1.1657e-04j,  2.1748e-04+4.6478e-04j,\n",
      "          9.3938e-05-1.8494e-04j],\n",
      "        [ 8.4911e-06-1.2239e-03j,  1.6383e-04+2.1958e-04j,\n",
      "          5.3155e-04-6.1775e-05j,  ...,\n",
      "         -7.4933e-04+6.5624e-04j, -4.3512e-04-2.7045e-04j,\n",
      "         -1.8587e-04+5.7951e-04j],\n",
      "        [-1.5895e-06-9.6303e-04j,  1.0833e-04+4.7000e-04j,\n",
      "          3.9019e-04-3.8573e-04j,  ...,\n",
      "         -1.2998e-04+4.0988e-04j,  6.2334e-06-3.7081e-04j,\n",
      "          2.0815e-04+5.7228e-04j],\n",
      "        ...,\n",
      "        [ 3.3520e-06-1.2257e-04j, -5.3092e-04+4.8718e-04j,\n",
      "          5.1844e-04-8.7642e-04j,  ...,\n",
      "          5.8356e-04+2.4715e-04j,  5.3978e-04+3.2171e-04j,\n",
      "          3.3816e-04+3.1749e-04j],\n",
      "        [-9.1329e-05+4.4088e-04j, -1.3170e-04+1.9880e-04j,\n",
      "         -2.8926e-04-1.6819e-04j,  ...,\n",
      "          5.2796e-04-5.6473e-04j,  4.0311e-04-1.9055e-04j,\n",
      "          2.4247e-04-3.7115e-04j],\n",
      "        [-2.5261e-05-2.1977e-04j,  7.3420e-05-3.3030e-04j,\n",
      "          1.9075e-05-5.3370e-04j,  ...,\n",
      "          1.3195e-04+2.7688e-04j, -2.1118e-04+4.0789e-04j,\n",
      "          3.7550e-04+3.3222e-04j]], device='cuda:0', grad_fn=<SelectBackward0>)\n"
     ]
    }
   ],
   "source": [
    "# checking for numerical stability\n",
    "print(preds[-1], h_t[-1])"
   ]
  },
  {
   "cell_type": "code",
   "execution_count": 7,
   "id": "a18e57e8",
   "metadata": {},
   "outputs": [
    {
     "data": {
      "text/plain": [
       "0"
      ]
     },
     "execution_count": 7,
     "metadata": {},
     "output_type": "execute_result"
    }
   ],
   "source": [
    "import torch as T\n",
    "\n",
    "def count_nans(y_t):\n",
    "    \"\"\"\n",
    "    Counts the number of NaN values in a tensor.\n",
    "    \n",
    "    Args:\n",
    "        y_t (torch.Tensor): Input tensor of any shape.\n",
    "        \n",
    "    Returns:\n",
    "        int: Number of NaN values in the tensor.\n",
    "    \"\"\"\n",
    "    return T.isnan(y_t).sum().item()\n",
    "\n",
    "\n",
    "count_nans(preds)"
   ]
  }
 ],
 "metadata": {
  "kernelspec": {
   "display_name": "py311",
   "language": "python",
   "name": "python3"
  },
  "language_info": {
   "codemirror_mode": {
    "name": "ipython",
    "version": 3
   },
   "file_extension": ".py",
   "mimetype": "text/x-python",
   "name": "python",
   "nbconvert_exporter": "python",
   "pygments_lexer": "ipython3",
   "version": "3.11.13"
  }
 },
 "nbformat": 4,
 "nbformat_minor": 5
}
