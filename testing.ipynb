{
 "cells": [
  {
   "cell_type": "code",
   "execution_count": 1,
   "id": "292d51d0",
   "metadata": {},
   "outputs": [],
   "source": [
    "import os\n",
    "import numpy as np\n",
    "import torch as T\n",
    "import torch.nn as nn\n",
    "import torch.optim as optim\n",
    "\n",
    "from recurrent_network import RecurrentNetwork"
   ]
  },
  {
   "cell_type": "code",
   "execution_count": 2,
   "id": "fc0191ce",
   "metadata": {},
   "outputs": [
    {
     "name": "stdout",
     "output_type": "stream",
     "text": [
      "cuda\n"
     ]
    }
   ],
   "source": [
    "'''\n",
    "Testing for any forward pass / backpropagation errors\n",
    "'''\n",
    "\n",
    "# ssm config\n",
    "embedding_size = 64\n",
    "state_space_size = 256\n",
    "input_size = 2\n",
    "output_size = input_size\n",
    "batch_size = 1\n",
    "seq_len = 10000\n",
    "\n",
    "device = T.device(\"cuda\" if T.cuda.is_available() else \"cpu\")\n",
    "\n",
    "print(device)\n",
    "# instantiate modepl\n",
    "model = RecurrentNetwork(\n",
    "    embedding_size=embedding_size,\n",
    "    state_space_size=state_space_size,\n",
    "    input_size=input_size,\n",
    "    output_size=output_size,\n",
    "    batch_size=batch_size,\n",
    "    chkpt_dir='temp/',\n",
    "    device=device\n",
    ")\n",
    "\n",
    "model = model\n",
    "\n",
    "# backprop setup\n",
    "optimizer = optim.Adam(model.parameters(), lr=1e-3)\n",
    "criterion = nn.MSELoss()\n",
    "\n",
    "# generate input and target data\n",
    "inputs = T.randn(batch_size, seq_len, input_size, dtype=T.float32, device=device)\n",
    "targets = T.randn(batch_size, seq_len, input_size, dtype=T.float32, device=device)\n",
    "\n",
    "# training loop for 1 step to test backprop\n",
    "#model.train()"
   ]
  },
  {
   "cell_type": "code",
   "execution_count": 3,
   "id": "08ec4f61",
   "metadata": {},
   "outputs": [],
   "source": [
    "# forward pass\n",
    "h_t, preds = model(inputs, None, embeddings_only=False)"
   ]
  },
  {
   "cell_type": "code",
   "execution_count": 4,
   "id": "54f4ef8f",
   "metadata": {},
   "outputs": [
    {
     "name": "stdout",
     "output_type": "stream",
     "text": [
      "Loss: 1.2393221855163574\n",
      "Backpropagation and optimizer step completed successfully.\n"
     ]
    }
   ],
   "source": [
    "# loss + backprop\n",
    "loss = criterion(preds, targets)\n",
    "optimizer.zero_grad()\n",
    "loss.backward()\n",
    "optimizer.step()\n",
    "\n",
    "print(\"Loss:\", loss.item())\n",
    "print(\"Backpropagation and optimizer step completed successfully.\")"
   ]
  },
  {
   "cell_type": "code",
   "execution_count": 5,
   "id": "fd1e9d16",
   "metadata": {},
   "outputs": [
    {
     "name": "stdout",
     "output_type": "stream",
     "text": [
      "cuda\n"
     ]
    }
   ],
   "source": [
    "print(device)"
   ]
  },
  {
   "cell_type": "code",
   "execution_count": 6,
   "id": "5ab4445e",
   "metadata": {},
   "outputs": [
    {
     "name": "stdout",
     "output_type": "stream",
     "text": [
      "tensor([[0.5685, 0.3144],\n",
      "        [0.6698, 0.2122],\n",
      "        [0.6370, 0.2077],\n",
      "        ...,\n",
      "        [0.5774, 0.3025],\n",
      "        [0.6286, 0.2415],\n",
      "        [0.6496, 0.2390]], device='cuda:0', grad_fn=<SelectBackward0>) tensor([[ 7.6848e-04-3.7264e-04j, -1.0157e-03+8.4501e-04j,\n",
      "          1.3712e-05+4.6678e-04j,  ...,\n",
      "          1.1557e-04+4.0445e-04j,  4.2644e-04-5.2005e-04j,\n",
      "         -2.0155e-04-3.4046e-04j],\n",
      "        [-4.6985e-04+5.9846e-04j,  8.7554e-05-1.3739e-03j,\n",
      "         -2.4774e-04-4.9494e-04j,  ...,\n",
      "          7.2667e-05-3.7611e-04j,  4.4882e-05+9.7449e-04j,\n",
      "          4.5317e-04-2.9231e-05j],\n",
      "        [-4.8660e-04+3.2988e-04j,  5.2902e-04-4.6800e-04j,\n",
      "         -1.8185e-04-2.8908e-04j,  ...,\n",
      "         -1.6251e-04-3.8022e-04j,  2.2845e-05+3.9465e-04j,\n",
      "          3.2824e-05+1.4286e-04j],\n",
      "        ...,\n",
      "        [ 2.0063e-04-3.5406e-04j, -5.9330e-04-3.6858e-05j,\n",
      "          2.1733e-04-9.3796e-05j,  ...,\n",
      "          6.8667e-04+1.7638e-05j, -1.4606e-04+4.2098e-04j,\n",
      "          2.7239e-04-4.1900e-04j],\n",
      "        [-2.5387e-04-2.0259e-04j,  3.5366e-04-3.9041e-04j,\n",
      "          2.6323e-04-2.7352e-04j,  ...,\n",
      "          5.0238e-04-5.2833e-05j, -4.8543e-04+5.4301e-04j,\n",
      "          3.3329e-04-5.5691e-05j],\n",
      "        [ 2.6358e-04+4.4065e-04j, -6.7791e-04-1.0557e-03j,\n",
      "         -2.1919e-04-5.9180e-05j,  ...,\n",
      "          1.0710e-04+8.3614e-05j,  1.4289e-04+6.1045e-04j,\n",
      "          4.4865e-04-3.6938e-04j]], device='cuda:0', grad_fn=<SelectBackward0>)\n"
     ]
    }
   ],
   "source": [
    "# checking for numerical stability\n",
    "print(preds[-1], h_t[-1])"
   ]
  }
 ],
 "metadata": {
  "kernelspec": {
   "display_name": "py311",
   "language": "python",
   "name": "python3"
  },
  "language_info": {
   "codemirror_mode": {
    "name": "ipython",
    "version": 3
   },
   "file_extension": ".py",
   "mimetype": "text/x-python",
   "name": "python",
   "nbconvert_exporter": "python",
   "pygments_lexer": "ipython3",
   "version": "3.11.13"
  }
 },
 "nbformat": 4,
 "nbformat_minor": 5
}
