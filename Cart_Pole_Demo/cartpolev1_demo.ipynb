{
 "cells": [
  {
   "cell_type": "code",
   "execution_count": 1,
   "id": "494cd3f9",
   "metadata": {},
   "outputs": [],
   "source": [
    "from trainer import SSMTrainer\n",
    "import torch as T\n",
    "\n",
    "device = T.device(\"cuda\" if T.cuda.is_available() else \"cpu\")\n",
    "ssm_trainer = SSMTrainer(\n",
    "    env='CartPole-v1',\n",
    "    embedding_size=64,\n",
    "    state_space_size=256,\n",
    "    reward_threshold=15,\n",
    "    reward_target=475,\n",
    "    lr=3e-4,\n",
    "    gamma=0.95,\n",
    "    entropy_coefficient=0.02,\n",
    "    validation_length=100,\n",
    "    max_episode_time=500,\n",
    "    dir='cartpole_ssm_only',\n",
    "    device=device\n",
    "    )"
   ]
  },
  {
   "cell_type": "code",
   "execution_count": 2,
   "id": "418120f3",
   "metadata": {},
   "outputs": [
    {
     "ename": "KeyboardInterrupt",
     "evalue": "",
     "output_type": "error",
     "traceback": [
      "\u001b[31m---------------------------------------------------------------------------\u001b[39m",
      "\u001b[31mKeyboardInterrupt\u001b[39m                         Traceback (most recent call last)",
      "\u001b[36mCell\u001b[39m\u001b[36m \u001b[39m\u001b[32mIn[2]\u001b[39m\u001b[32m, line 1\u001b[39m\n\u001b[32m----> \u001b[39m\u001b[32m1\u001b[39m \u001b[43mssm_trainer\u001b[49m\u001b[43m.\u001b[49m\u001b[43mtrain\u001b[49m\u001b[43m(\u001b[49m\u001b[43m)\u001b[49m\n",
      "\u001b[36mFile \u001b[39m\u001b[32m~/Documents/Projects/SSM-PPO/Cart_Pole_Demo/trainer.py:183\u001b[39m, in \u001b[36mSSMTrainer.train\u001b[39m\u001b[34m(self, verbose)\u001b[39m\n\u001b[32m    181\u001b[39m \u001b[38;5;66;03m# checks if the total reward is worthy of wasting compute to validate\u001b[39;00m\n\u001b[32m    182\u001b[39m \u001b[38;5;28;01mif\u001b[39;00m training_reward >= \u001b[38;5;28mself\u001b[39m.reward_threshold:\n\u001b[32m--> \u001b[39m\u001b[32m183\u001b[39m     \u001b[38;5;28mself\u001b[39m.validation_reward, episodes_lasted = \u001b[38;5;28;43mself\u001b[39;49m\u001b[43m.\u001b[49m\u001b[43m__evaluate_policy\u001b[49m\u001b[43m(\u001b[49m\u001b[43m)\u001b[49m\n\u001b[32m    184\u001b[39m     \u001b[38;5;28mprint\u001b[39m(\u001b[33mf\u001b[39m\u001b[33m\"\u001b[39m\u001b[33mEpisode \u001b[39m\u001b[38;5;132;01m{\u001b[39;00m\u001b[38;5;28mself\u001b[39m.episode\u001b[38;5;132;01m}\u001b[39;00m\u001b[33m: Reward = \u001b[39m\u001b[38;5;132;01m{\u001b[39;00mtraining_reward\u001b[38;5;132;01m}\u001b[39;00m\u001b[33m | Validation Avg = \u001b[39m\u001b[38;5;132;01m{\u001b[39;00m\u001b[38;5;28mself\u001b[39m.validation_reward\u001b[38;5;132;01m:\u001b[39;00m\u001b[33m.2f\u001b[39m\u001b[38;5;132;01m}\u001b[39;00m\u001b[33m from \u001b[39m\u001b[38;5;132;01m{\u001b[39;00mepisodes_lasted\u001b[38;5;132;01m}\u001b[39;00m\u001b[33m episodes \u001b[39m\u001b[33m\"\u001b[39m)\n\u001b[32m    185\u001b[39m \u001b[38;5;28;01melse\u001b[39;00m:\n",
      "\u001b[36mFile \u001b[39m\u001b[32m~/Documents/Projects/SSM-PPO/Cart_Pole_Demo/trainer.py:242\u001b[39m, in \u001b[36mSSMTrainer.__evaluate_policy\u001b[39m\u001b[34m(self)\u001b[39m\n\u001b[32m    240\u001b[39m h_t = \u001b[38;5;28mself\u001b[39m.agent.get_inital_hidden_state()\n\u001b[32m    241\u001b[39m h_t = h_t.unsqueeze(\u001b[32m0\u001b[39m).expand(\u001b[38;5;28mself\u001b[39m.batch_size, -\u001b[32m1\u001b[39m, -\u001b[32m1\u001b[39m)\n\u001b[32m--> \u001b[39m\u001b[32m242\u001b[39m \u001b[38;5;28;01mwhile\u001b[39;00m \u001b[38;5;129;01mnot\u001b[39;00m done:\n\u001b[32m    243\u001b[39m     \u001b[38;5;66;03m# disables gradients since we dont want to train off the validation data\u001b[39;00m\n\u001b[32m    244\u001b[39m \u001b[38;5;250m    \u001b[39m\u001b[33;03m'''with T.no_grad():\u001b[39;00m\n\u001b[32m    245\u001b[39m \u001b[33;03m        obs_tensor = T.tensor(obs, dtype=T.float32, device=self.device).unsqueeze(0).unsqueeze(0)\u001b[39;00m\n\u001b[32m    246\u001b[39m \u001b[33;03m        h_t, y_t = self.agent(obs_tensor, h_t, embeddings_only=False)\u001b[39;00m\n\u001b[32m   (...)\u001b[39m\u001b[32m    249\u001b[39m \u001b[33;03m    done = terminated or truncated\u001b[39;00m\n\u001b[32m    250\u001b[39m \u001b[33;03m    total_reward += reward'''\u001b[39;00m\n\u001b[32m    252\u001b[39m \u001b[38;5;28;01mwith\u001b[39;00m T.no_grad():\n",
      "\u001b[31mKeyboardInterrupt\u001b[39m: "
     ]
    }
   ],
   "source": [
    "ssm_trainer.train()"
   ]
  },
  {
   "cell_type": "code",
   "execution_count": null,
   "id": "a9a0b29a",
   "metadata": {},
   "outputs": [
    {
     "name": "stdout",
     "output_type": "stream",
     "text": [
      "Live Replay Episode Reward: 500.0\n"
     ]
    }
   ],
   "source": [
    "ssm_trainer.replay_live()"
   ]
  },
  {
   "cell_type": "code",
   "execution_count": null,
   "id": "378805dd",
   "metadata": {},
   "outputs": [],
   "source": [
    "df = ssm_trainer.compile_data()"
   ]
  },
  {
   "cell_type": "code",
   "execution_count": null,
   "id": "8660f22b",
   "metadata": {},
   "outputs": [
    {
     "data": {
      "text/html": [
       "<div>\n",
       "<style scoped>\n",
       "    .dataframe tbody tr th:only-of-type {\n",
       "        vertical-align: middle;\n",
       "    }\n",
       "\n",
       "    .dataframe tbody tr th {\n",
       "        vertical-align: top;\n",
       "    }\n",
       "\n",
       "    .dataframe thead th {\n",
       "        text-align: right;\n",
       "    }\n",
       "</style>\n",
       "<table border=\"1\" class=\"dataframe\">\n",
       "  <thead>\n",
       "    <tr style=\"text-align: right;\">\n",
       "      <th></th>\n",
       "      <th>recurrent_block.real_transition_matrix</th>\n",
       "      <th>recurrent_block.img_transition_matrix</th>\n",
       "      <th>recurrent_block.real_hidden_matrix</th>\n",
       "      <th>recurrent_block.img_hidden_matrix</th>\n",
       "      <th>recurrent_block.embedding_layer.weight</th>\n",
       "      <th>recurrent_block.output_gate.weight</th>\n",
       "      <th>recurrent_block.input_gate.0.weight</th>\n",
       "      <th>recurrent_block.input_gate.1.smoothness</th>\n",
       "      <th>recurrent_block.discretization_matrix.0.weight</th>\n",
       "      <th>recurrent_block.discretization_matrix.1.smoothness</th>\n",
       "      <th>...</th>\n",
       "      <th>recurrent_block.state_prediction.0.weight</th>\n",
       "      <th>recurrent_block.state_prediction.0.bias</th>\n",
       "      <th>recurrent_block.state_prediction.1.weight</th>\n",
       "      <th>recurrent_block.state_prediction.1.bias</th>\n",
       "      <th>recurrent_block.state_prediction.3.weight</th>\n",
       "      <th>recurrent_block.state_prediction.3.bias</th>\n",
       "      <th>training_steps</th>\n",
       "      <th>training_reward</th>\n",
       "      <th>validation_reward</th>\n",
       "      <th>loss</th>\n",
       "    </tr>\n",
       "  </thead>\n",
       "  <tbody>\n",
       "    <tr>\n",
       "      <th>0</th>\n",
       "      <td>2.994825e-06</td>\n",
       "      <td>0.000051</td>\n",
       "      <td>0.000286</td>\n",
       "      <td>0.000152</td>\n",
       "      <td>0.079724</td>\n",
       "      <td>0.011033</td>\n",
       "      <td>0.273169</td>\n",
       "      <td>0.000285</td>\n",
       "      <td>0.000013</td>\n",
       "      <td>2.203951e-07</td>\n",
       "      <td>...</td>\n",
       "      <td>0.246427</td>\n",
       "      <td>0.106056</td>\n",
       "      <td>0.014692</td>\n",
       "      <td>0.015337</td>\n",
       "      <td>0.162479</td>\n",
       "      <td>0.038623</td>\n",
       "      <td>10</td>\n",
       "      <td>10.0</td>\n",
       "      <td>10.0</td>\n",
       "      <td>-0.163409</td>\n",
       "    </tr>\n",
       "    <tr>\n",
       "      <th>1</th>\n",
       "      <td>2.463857e-06</td>\n",
       "      <td>0.000037</td>\n",
       "      <td>0.000102</td>\n",
       "      <td>0.000054</td>\n",
       "      <td>0.045449</td>\n",
       "      <td>0.006424</td>\n",
       "      <td>0.053956</td>\n",
       "      <td>0.000236</td>\n",
       "      <td>0.000019</td>\n",
       "      <td>7.895602e-07</td>\n",
       "      <td>...</td>\n",
       "      <td>0.338552</td>\n",
       "      <td>0.195761</td>\n",
       "      <td>0.027592</td>\n",
       "      <td>0.027538</td>\n",
       "      <td>0.202530</td>\n",
       "      <td>0.070376</td>\n",
       "      <td>24</td>\n",
       "      <td>14.0</td>\n",
       "      <td>14.0</td>\n",
       "      <td>-0.373372</td>\n",
       "    </tr>\n",
       "    <tr>\n",
       "      <th>2</th>\n",
       "      <td>6.142774e-06</td>\n",
       "      <td>0.000100</td>\n",
       "      <td>0.000121</td>\n",
       "      <td>0.000065</td>\n",
       "      <td>0.048206</td>\n",
       "      <td>0.007363</td>\n",
       "      <td>0.118815</td>\n",
       "      <td>0.002063</td>\n",
       "      <td>0.000023</td>\n",
       "      <td>1.896130e-05</td>\n",
       "      <td>...</td>\n",
       "      <td>0.338728</td>\n",
       "      <td>0.187568</td>\n",
       "      <td>0.032587</td>\n",
       "      <td>0.029132</td>\n",
       "      <td>0.197568</td>\n",
       "      <td>0.070776</td>\n",
       "      <td>61</td>\n",
       "      <td>37.0</td>\n",
       "      <td>9.0</td>\n",
       "      <td>-0.056978</td>\n",
       "    </tr>\n",
       "    <tr>\n",
       "      <th>3</th>\n",
       "      <td>9.164611e-07</td>\n",
       "      <td>0.000014</td>\n",
       "      <td>0.000030</td>\n",
       "      <td>0.000016</td>\n",
       "      <td>0.014054</td>\n",
       "      <td>0.002253</td>\n",
       "      <td>0.019334</td>\n",
       "      <td>0.000210</td>\n",
       "      <td>0.000005</td>\n",
       "      <td>2.961349e-06</td>\n",
       "      <td>...</td>\n",
       "      <td>0.347852</td>\n",
       "      <td>0.205881</td>\n",
       "      <td>0.026270</td>\n",
       "      <td>0.030046</td>\n",
       "      <td>0.225893</td>\n",
       "      <td>0.081015</td>\n",
       "      <td>83</td>\n",
       "      <td>22.0</td>\n",
       "      <td>8.0</td>\n",
       "      <td>0.340637</td>\n",
       "    </tr>\n",
       "    <tr>\n",
       "      <th>4</th>\n",
       "      <td>1.444100e-06</td>\n",
       "      <td>0.000024</td>\n",
       "      <td>0.000101</td>\n",
       "      <td>0.000055</td>\n",
       "      <td>0.019077</td>\n",
       "      <td>0.008182</td>\n",
       "      <td>0.027023</td>\n",
       "      <td>0.000150</td>\n",
       "      <td>0.000021</td>\n",
       "      <td>1.176514e-05</td>\n",
       "      <td>...</td>\n",
       "      <td>0.348756</td>\n",
       "      <td>0.205927</td>\n",
       "      <td>0.026318</td>\n",
       "      <td>0.030586</td>\n",
       "      <td>0.230713</td>\n",
       "      <td>0.083159</td>\n",
       "      <td>92</td>\n",
       "      <td>9.0</td>\n",
       "      <td>9.0</td>\n",
       "      <td>-0.774345</td>\n",
       "    </tr>\n",
       "  </tbody>\n",
       "</table>\n",
       "<p>5 rows × 32 columns</p>\n",
       "</div>"
      ],
      "text/plain": [
       "   recurrent_block.real_transition_matrix  \\\n",
       "0                            2.994825e-06   \n",
       "1                            2.463857e-06   \n",
       "2                            6.142774e-06   \n",
       "3                            9.164611e-07   \n",
       "4                            1.444100e-06   \n",
       "\n",
       "   recurrent_block.img_transition_matrix  recurrent_block.real_hidden_matrix  \\\n",
       "0                               0.000051                            0.000286   \n",
       "1                               0.000037                            0.000102   \n",
       "2                               0.000100                            0.000121   \n",
       "3                               0.000014                            0.000030   \n",
       "4                               0.000024                            0.000101   \n",
       "\n",
       "   recurrent_block.img_hidden_matrix  recurrent_block.embedding_layer.weight  \\\n",
       "0                           0.000152                                0.079724   \n",
       "1                           0.000054                                0.045449   \n",
       "2                           0.000065                                0.048206   \n",
       "3                           0.000016                                0.014054   \n",
       "4                           0.000055                                0.019077   \n",
       "\n",
       "   recurrent_block.output_gate.weight  recurrent_block.input_gate.0.weight  \\\n",
       "0                            0.011033                             0.273169   \n",
       "1                            0.006424                             0.053956   \n",
       "2                            0.007363                             0.118815   \n",
       "3                            0.002253                             0.019334   \n",
       "4                            0.008182                             0.027023   \n",
       "\n",
       "   recurrent_block.input_gate.1.smoothness  \\\n",
       "0                                 0.000285   \n",
       "1                                 0.000236   \n",
       "2                                 0.002063   \n",
       "3                                 0.000210   \n",
       "4                                 0.000150   \n",
       "\n",
       "   recurrent_block.discretization_matrix.0.weight  \\\n",
       "0                                        0.000013   \n",
       "1                                        0.000019   \n",
       "2                                        0.000023   \n",
       "3                                        0.000005   \n",
       "4                                        0.000021   \n",
       "\n",
       "   recurrent_block.discretization_matrix.1.smoothness  ...  \\\n",
       "0                                       2.203951e-07   ...   \n",
       "1                                       7.895602e-07   ...   \n",
       "2                                       1.896130e-05   ...   \n",
       "3                                       2.961349e-06   ...   \n",
       "4                                       1.176514e-05   ...   \n",
       "\n",
       "   recurrent_block.state_prediction.0.weight  \\\n",
       "0                                   0.246427   \n",
       "1                                   0.338552   \n",
       "2                                   0.338728   \n",
       "3                                   0.347852   \n",
       "4                                   0.348756   \n",
       "\n",
       "   recurrent_block.state_prediction.0.bias  \\\n",
       "0                                 0.106056   \n",
       "1                                 0.195761   \n",
       "2                                 0.187568   \n",
       "3                                 0.205881   \n",
       "4                                 0.205927   \n",
       "\n",
       "   recurrent_block.state_prediction.1.weight  \\\n",
       "0                                   0.014692   \n",
       "1                                   0.027592   \n",
       "2                                   0.032587   \n",
       "3                                   0.026270   \n",
       "4                                   0.026318   \n",
       "\n",
       "   recurrent_block.state_prediction.1.bias  \\\n",
       "0                                 0.015337   \n",
       "1                                 0.027538   \n",
       "2                                 0.029132   \n",
       "3                                 0.030046   \n",
       "4                                 0.030586   \n",
       "\n",
       "   recurrent_block.state_prediction.3.weight  \\\n",
       "0                                   0.162479   \n",
       "1                                   0.202530   \n",
       "2                                   0.197568   \n",
       "3                                   0.225893   \n",
       "4                                   0.230713   \n",
       "\n",
       "   recurrent_block.state_prediction.3.bias  training_steps  training_reward  \\\n",
       "0                                 0.038623              10             10.0   \n",
       "1                                 0.070376              24             14.0   \n",
       "2                                 0.070776              61             37.0   \n",
       "3                                 0.081015              83             22.0   \n",
       "4                                 0.083159              92              9.0   \n",
       "\n",
       "   validation_reward      loss  \n",
       "0               10.0 -0.163409  \n",
       "1               14.0 -0.373372  \n",
       "2                9.0 -0.056978  \n",
       "3                8.0  0.340637  \n",
       "4                9.0 -0.774345  \n",
       "\n",
       "[5 rows x 32 columns]"
      ]
     },
     "execution_count": 33,
     "metadata": {},
     "output_type": "execute_result"
    }
   ],
   "source": [
    "import matplotlib.pyplot as plt\n",
    "%matplotlib inline\n",
    "\n",
    "df.head()"
   ]
  },
  {
   "cell_type": "code",
   "execution_count": null,
   "id": "f2de3d1c",
   "metadata": {},
   "outputs": [
    {
     "data": {
      "text/plain": [
       "[<matplotlib.lines.Line2D at 0x7b883c6f2710>]"
      ]
     },
     "execution_count": 34,
     "metadata": {},
     "output_type": "execute_result"
    },
    {
     "data": {
      "image/png": "[encoded data removed]",
      "text/plain": [
       "<Figure size 640x480 with 1 Axes>"
      ]
     },
     "metadata": {},
     "output_type": "display_data"
    }
   ],
   "source": [
    "plt.plot(df['training_steps'],df['training_reward'])"
   ]
  },
  {
   "cell_type": "code",
   "execution_count": null,
   "id": "68a168d3",
   "metadata": {},
   "outputs": [
    {
     "data": {
      "text/plain": [
       "[<matplotlib.lines.Line2D at 0x7b883c679250>]"
      ]
     },
     "execution_count": 35,
     "metadata": {},
     "output_type": "execute_result"
    },
    {
     "data": {
      "image/png": "[encoded data removed]",
      "text/plain": [
       "<Figure size 640x480 with 1 Axes>"
      ]
     },
     "metadata": {},
     "output_type": "display_data"
    }
   ],
   "source": [
    "plt.plot(df['training_steps'],df['validation_reward'])"
   ]
  }
 ],
 "metadata": {
  "kernelspec": {
   "display_name": "py311",
   "language": "python",
   "name": "python3"
  },
  "language_info": {
   "codemirror_mode": {
    "name": "ipython",
    "version": 3
   },
   "file_extension": ".py",
   "mimetype": "text/x-python",
   "name": "python",
   "nbconvert_exporter": "python",
   "pygments_lexer": "ipython3",
   "version": "3.11.13"
  }
 },
 "nbformat": 4,
 "nbformat_minor": 5
}
